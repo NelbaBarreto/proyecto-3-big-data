{
 "cells": [
  {
   "cell_type": "code",
   "execution_count": 1,
   "id": "681cd29e-156f-49e6-88db-f0ec341e96d4",
   "metadata": {},
   "outputs": [
    {
     "name": "stderr",
     "output_type": "stream",
     "text": [
      "/usr/local/lib/python3.10/site-packages/pyspark/bin/load-spark-env.sh: line 68: ps: command not found\n",
      "Setting default log level to \"WARN\".\n",
      "To adjust logging level use sc.setLogLevel(newLevel). For SparkR, use setLogLevel(newLevel).\n",
      "25/04/09 19:13:43 WARN NativeCodeLoader: Unable to load native-hadoop library for your platform... using builtin-java classes where applicable\n",
      "25/04/09 19:13:44 WARN Utils: Service 'SparkUI' could not bind on port 4040. Attempting port 4041.\n"
     ]
    }
   ],
   "source": [
    "from pyspark.sql import SparkSession\n",
    "\n",
    "spark = SparkSession.builder \\\n",
    "    .appName(\"ProcesarTokens\") \\\n",
    "    .config(\"spark.executor.memory\", \"4g\") \\\n",
    "    .config(\"spark.driver.memory\", \"4g\") \\\n",
    "    .getOrCreate()"
   ]
  },
  {
   "cell_type": "code",
   "execution_count": 2,
   "id": "a45e8239-876d-4b43-9ee9-a711c0a92473",
   "metadata": {},
   "outputs": [],
   "source": [
    "df = spark.read.parquet(\"*.parquet\")"
   ]
  },
  {
   "cell_type": "code",
   "execution_count": 3,
   "id": "ee87611f-b655-470a-af52-7d8d7d7b156e",
   "metadata": {},
   "outputs": [
    {
     "name": "stderr",
     "output_type": "stream",
     "text": [
      "                                                                                "
     ]
    },
    {
     "name": "stdout",
     "output_type": "stream",
     "text": [
      "+--------------+--------------------+--------------------+--------------------+-----------------+-----------------+--------------------+--------------------+--------------------+-----------+\n",
      "|nombre_archivo|             content|               title|              author|authoryearofbirth|authoryearofdeath|            subjects|              tokens|     filtered_tokens|token_count|\n",
      "+--------------+--------------------+--------------------+--------------------+-----------------+-----------------+--------------------+--------------------+--------------------+-----------+\n",
      "|       PG42023|\\nLA WEB, UNA ENC...|La web, una encic...|       Lebert, Marie|              NaN|              NaN|  {'World Wide Web'}|[la, web, una, en...|[web, enciclopedi...|      20791|\n",
      "|       PG41575|\\n  JUVENILIA\\n\\n...|Juvenilla; Prosa ...|        Cané, Miguel|           1851.0|           1905.0|{'Argentine liter...|[juvenilia, prosa...|[juvenilia, prosa...|      79537|\n",
      "|       PG41746|\\n\\n\\n\\n\\n\\n\\n\\n\\...|        Flor de mayo|Blasco Ibáñez, Vi...|           1867.0|           1928.0| {'Spanish fiction'}|[illustration, bo...|[illustration, bo...|      66301|\n",
      "|       PG30280|\\n[imagen: MUSEO ...|Vida y obras de d...|Picón, Jacinto Oc...|           1852.0|           1923.0|{'Velázquez, Dieg...|[imagen, museo, d...|[imagen, museo, v...|      48664|\n",
      "|       PG44358|\\n  Nota del Tran...|La Tía Tula (Novela)|  Unamuno, Miguel de|           1864.0|           1936.0|{'Aunts -- Fictio...|[nota, del, trans...|[nota, transcript...|      28827|\n",
      "|       PG41884|\\nNotas del Trans...|La situacion de P...|           Anonymous|              NaN|              NaN|{'Slavery -- Puer...|[notas, del, tran...|[notas, transcrip...|      27253|\n",
      "|       PG37067|produced from ima...|Historia de la li...|Schack, Adolf Fri...|           1815.0|           1894.0|{'Spanish drama -...|[produced, from, ...|[produced, from, ...|      97195|\n",
      "|       PG40827|\\nEn esta edición...|La voz de la cons...|         Baroja, Pío|           1872.0|           1956.0| {'Spanish fiction'}|[en, esta, edició...|[edición, manteni...|      40930|\n",
      "|       PG43861|\\n  Nota del Tran...|Granos de oro: Pe...|         Martí, José|           1853.0|           1895.0|{'Martí, José, 18...|[nota, del, trans...|[nota, transcript...|      22778|\n",
      "|       PG42321|\\n  Nota del Tran...|Lo que dice la hi...|      Brau, Salvador|           1842.0|           1912.0|{'Puerto Rico -- ...|[nota, del, trans...|[nota, transcript...|       7845|\n",
      "+--------------+--------------------+--------------------+--------------------+-----------------+-----------------+--------------------+--------------------+--------------------+-----------+\n",
      "only showing top 10 rows\n",
      "\n"
     ]
    }
   ],
   "source": [
    "df.show(10)"
   ]
  },
  {
   "cell_type": "code",
   "execution_count": 4,
   "id": "19caf39a-a500-488f-8f0b-a1e18b4a79bb",
   "metadata": {},
   "outputs": [
    {
     "name": "stdout",
     "output_type": "stream",
     "text": [
      "Máximo token_count: 354168\n"
     ]
    }
   ],
   "source": [
    "from pyspark.sql.functions import max\n",
    "\n",
    "# Obtener el mayor valor de la columna 'token_count'\n",
    "max_token_count = df.agg(max(\"token_count\")).collect()[0][0]\n",
    "\n",
    "print(\"Máximo token_count:\", max_token_count)"
   ]
  },
  {
   "cell_type": "code",
   "execution_count": 5,
   "id": "be0e547a-ea27-44da-868d-ca1bbf9db120",
   "metadata": {},
   "outputs": [],
   "source": [
    "# Total de libros: 132\n",
    "# Cantidad total de tokens: 7,496,845\n",
    "# Libro con mayor cantidad de tokens: 354,168 - Don Quijote"
   ]
  },
  {
   "cell_type": "code",
   "execution_count": 6,
   "id": "23c39b4a-1e4e-4842-a285-2f90982b2776",
   "metadata": {},
   "outputs": [
    {
     "name": "stdout",
     "output_type": "stream",
     "text": [
      "+--------------+--------------------+-----------+--------------------+-----------------+-----------------+--------------------+--------------------+--------------------+-----------+\n",
      "|nombre_archivo|             content|      title|              author|authoryearofbirth|authoryearofdeath|            subjects|              tokens|     filtered_tokens|token_count|\n",
      "+--------------+--------------------+-----------+--------------------+-----------------+-----------------+--------------------+--------------------+--------------------+-----------+\n",
      "|        PG2000|\\n\\n\\n\\nEl ingeni...|Don Quijote|Cervantes Saavedr...|           1547.0|           1616.0|{'Romances', 'Kni...|[el, ingenioso, h...|[ingenioso, hidal...|     354168|\n",
      "+--------------+--------------------+-----------+--------------------+-----------------+-----------------+--------------------+--------------------+--------------------+-----------+\n",
      "\n"
     ]
    }
   ],
   "source": [
    "# Usando filter\n",
    "libro_max_token_count = df.filter(df.token_count == 354168)\n",
    "\n",
    "# Mostrar el resultado\n",
    "libro_max_token_count.show()"
   ]
  },
  {
   "cell_type": "code",
   "execution_count": 7,
   "id": "488ad6dd-8453-47d1-8123-bc62da59918b",
   "metadata": {},
   "outputs": [
    {
     "name": "stderr",
     "output_type": "stream",
     "text": [
      "[Stage 8:================>                                        (5 + 12) / 17]"
     ]
    },
    {
     "name": "stdout",
     "output_type": "stream",
     "text": [
      "+-------+-----+\n",
      "|palabra|count|\n",
      "+-------+-----+\n",
      "|     si|24715|\n",
      "|    tan|13446|\n",
      "|    dos|12172|\n",
      "|   dijo|11839|\n",
      "|    ser|11677|\n",
      "|   bien|10877|\n",
      "|    don|10544|\n",
      "|    mas|10517|\n",
      "|  usted| 9939|\n",
      "|  mismo| 9233|\n",
      "|   pues| 9075|\n",
      "|   casa| 8970|\n",
      "|    así| 8547|\n",
      "| tiempo| 8315|\n",
      "|después| 8063|\n",
      "| hombre| 8050|\n",
      "|     to| 7900|\n",
      "|    vez| 7838|\n",
      "|  aquel| 7444|\n",
      "|  todas| 7369|\n",
      "|   vida| 7333|\n",
      "|  señor| 6888|\n",
      "|   gran| 6579|\n",
      "|aquella| 6548|\n",
      "|siempre| 6449|\n",
      "|   ojos| 6430|\n",
      "|    fué| 6352|\n",
      "|  puede| 6337|\n",
      "|  parte| 6335|\n",
      "|   dios| 6291|\n",
      "|    the| 6276|\n",
      "|   sino| 6238|\n",
      "|   toda| 6223|\n",
      "|   aquí| 6215|\n",
      "|  hacer| 5882|\n",
      "|    tal| 5868|\n",
      "| aunque| 5715|\n",
      "|  menos| 5513|\n",
      "|    día| 5494|\n",
      "|   allí| 5428|\n",
      "|   años| 5399|\n",
      "|    ver| 5338|\n",
      "|   tres| 5251|\n",
      "|   cada| 5209|\n",
      "|  noche| 5161|\n",
      "|  mundo| 5122|\n",
      "|  ahora| 5108|\n",
      "|    fin| 4981|\n",
      "|  veces| 4974|\n",
      "|  luego| 4964|\n",
      "+-------+-----+\n",
      "\n"
     ]
    },
    {
     "name": "stderr",
     "output_type": "stream",
     "text": [
      "                                                                                "
     ]
    }
   ],
   "source": [
    "from pyspark.sql.functions import explode, col, desc\n",
    "\n",
    "# Suponiendo que `filtered_tokens` es una columna de tipo array<string>\n",
    "top_palabras = (\n",
    "    df.select(explode(col(\"filtered_tokens\")).alias(\"palabra\"))\n",
    "      .groupBy(\"palabra\")\n",
    "      .count()\n",
    "      .orderBy(desc(\"count\"))\n",
    "      .limit(50)\n",
    ")\n",
    "\n",
    "top_palabras.show(50)"
   ]
  },
  {
   "cell_type": "code",
   "execution_count": 8,
   "id": "dcb25b34-ce3c-4ba6-b5f9-9a0edea31df9",
   "metadata": {},
   "outputs": [
    {
     "name": "stdout",
     "output_type": "stream",
     "text": [
      "+-------------------------------------------------------------------------------------------------------------------------------------------------------------------------+\n",
      "|title                                                                                                                                                                    |\n",
      "+-------------------------------------------------------------------------------------------------------------------------------------------------------------------------+\n",
      "|Juvenilla; Prosa ligera                                                                                                                                                  |\n",
      "|La situacion de Puerto-Rico: Las falacias de los conservadores y los compromisos del partido radical                                                                     |\n",
      "|Descripción colonial, libro segundo (2/2)                                                                                                                                |\n",
      "|Cuentos de Amor de Locura y de Muerte                                                                                                                                    |\n",
      "|Derroteros y viages à la Ciudad Encantada, ó de los Césares.: Que se creia existiese en la Cordillera, al sud de Valdivia.                                               |\n",
      "|La Tierra de Todos                                                                                                                                                       |\n",
      "|Viajes por Europa y América                                                                                                                                              |\n",
      "|El intruso                                                                                                                                                               |\n",
      "|Diario histórico de la rebelion y guerra de los pueblos Guaranis situados en la costa oriental del Rio Uruguay, del año de 1754                                          |\n",
      "|Descripción Geografica, Histórica y Estadística de Bolivia, Tomo 1.                                                                                                      |\n",
      "|Naufragios de Alvar Núñez Cabeza de Vaca                                                                                                                                 |\n",
      "|Relación historica de los sucesos de la rebelión de José Gabriel Tupac-Amaru en las provincias del Peru, el año de 1780                                                  |\n",
      "|El aceite de olivas : $b su extracción, clarificación, depuración, conservación y envases para su exportación, decoloración y medios propuestos para quitarle la rancidez|\n",
      "|Diario de la expedicion de 1822 a los campos del sud de Buenos Aires: Desde Moron hasta la Sierra de la Ventana                                                          |\n",
      "|Paginas Sudamericanas                                                                                                                                                    |\n",
      "+-------------------------------------------------------------------------------------------------------------------------------------------------------------------------+\n",
      "\n"
     ]
    }
   ],
   "source": [
    "from pyspark.sql.functions import array_contains\n",
    "\n",
    "# Filtrar libros que contienen la palabra \"señor\"\n",
    "libros_filtrados = df.filter(array_contains(df.filtered_tokens, \"paraguay\"))\n",
    "\n",
    "# Mostrar resultados\n",
    "libros_filtrados.select(\"title\").show(20, truncate=False)"
   ]
  },
  {
   "cell_type": "code",
   "execution_count": 9,
   "id": "1fad00e9-97f7-4049-a0c0-5e1615f91a32",
   "metadata": {},
   "outputs": [
    {
     "name": "stdout",
     "output_type": "stream",
     "text": [
      "+-------------+\n",
      "|palabra      |\n",
      "+-------------+\n",
      "|biblioteca   |\n",
      "|agricultor   |\n",
      "|volumen      |\n",
      "|iv           |\n",
      "|aceite       |\n",
      "|olivas       |\n",
      "|extracción   |\n",
      "|clarificación|\n",
      "|depuración   |\n",
      "|conservación |\n",
      "|envases      |\n",
      "|exportación  |\n",
      "|decoloración |\n",
      "|medios       |\n",
      "|propuestos   |\n",
      "|quitarle     |\n",
      "|rancidez     |\n",
      "|dr           |\n",
      "|bizzarri     |\n",
      "|segunda      |\n",
      "|edición      |\n",
      "|traducida    |\n",
      "|diego        |\n",
      "|pequeño      |\n",
      "|catedrático  |\n",
      "|numerario    |\n",
      "|instituto    |\n",
      "|agrícola     |\n",
      "|alfonso      |\n",
      "|xii          |\n",
      "|ex           |\n",
      "|director     |\n",
      "|mismo        |\n",
      "|illustration |\n",
      "|madrid       |\n",
      "|librería     |\n",
      "|agrícola     |\n",
      "|casa         |\n",
      "|editorial    |\n",
      "|calle        |\n",
      "|serrano      |\n",
      "|núm          |\n",
      "|aceite       |\n",
      "|olivas       |\n",
      "|extracción   |\n",
      "|clarificación|\n",
      "|depuración   |\n",
      "|conservación |\n",
      "|envases      |\n",
      "|exportación  |\n",
      "|decoloración |\n",
      "|medios       |\n",
      "|propuestos   |\n",
      "|quitarle     |\n",
      "|rancidez     |\n",
      "|dr           |\n",
      "|alejandro    |\n",
      "|bizzarri     |\n",
      "|segunda      |\n",
      "|edición      |\n",
      "|traducido    |\n",
      "|diego        |\n",
      "|pequeño      |\n",
      "|catedrático  |\n",
      "|numerario    |\n",
      "|instituto    |\n",
      "|agrícola     |\n",
      "|alfonso      |\n",
      "|xii          |\n",
      "|ex           |\n",
      "|director     |\n",
      "|mismo        |\n",
      "|illustration |\n",
      "|madrid       |\n",
      "|imprenta     |\n",
      "|hijos        |\n",
      "|hernández    |\n",
      "|libertad     |\n",
      "|duplicado    |\n",
      "|propiedad    |\n",
      "|queda        |\n",
      "|hecho        |\n",
      "|depósito     |\n",
      "|marca        |\n",
      "|ley          |\n",
      "|prólogo      |\n",
      "|grandes      |\n",
      "|indiscutibles|\n",
      "|progresos    |\n",
      "|realizado    |\n",
      "|continúa     |\n",
      "|realizando   |\n",
      "|italia       |\n",
      "|elaboración  |\n",
      "|aceites      |\n",
      "|olivas       |\n",
      "|logrado      |\n",
      "|colocarse    |\n",
      "|cabeza       |\n",
      "|naciones     |\n",
      "+-------------+\n",
      "only showing top 100 rows\n",
      "\n"
     ]
    }
   ],
   "source": [
    "titulo_buscado = \"El aceite de olivas : $b su extracción, clarificación, depuración, conservación y envases para su exportación, decoloración y medios propuestos para quitarle la rancidez\"\n",
    "\n",
    "libro = df.filter(df.title == titulo_buscado)\n",
    "\n",
    "libro.select(explode(col(\"filtered_tokens\")).alias(\"palabra\")).show(100, truncate=False)"
   ]
  },
  {
   "cell_type": "code",
   "execution_count": 10,
   "id": "7039fc1c-cd0f-4467-97de-9d2515ffd55b",
   "metadata": {},
   "outputs": [
    {
     "name": "stderr",
     "output_type": "stream",
     "text": [
      "                                                                                "
     ]
    }
   ],
   "source": [
    "from pyspark.ml.feature import Tokenizer, HashingTF, IDF\n",
    "from pyspark.ml import Pipeline\n",
    "\n",
    "# Suponiendo que `df` tiene una columna 'clean_text' que contiene el texto limpio\n",
    "# Tokenizar el texto\n",
    "tokenizer = Tokenizer(inputCol=\"content\", outputCol=\"tokens_tf\")\n",
    "\n",
    "# Usar HashingTF para obtener el conteo de términos (similar a la frecuencia de términos en el vectorizador)\n",
    "hashing_tf = HashingTF(inputCol=\"tokens_tf\", outputCol=\"raw_features\", numFeatures=5000)  # 5000 características como max_features\n",
    "\n",
    "# Calcular IDF\n",
    "idf = IDF(inputCol=\"raw_features\", outputCol=\"features\")\n",
    "\n",
    "# Crear el pipeline con las tres etapas: tokenización, HashingTF e IDF\n",
    "pipeline = Pipeline(stages=[tokenizer, hashing_tf, idf])\n",
    "\n",
    "# Ajustar el pipeline\n",
    "model = pipeline.fit(df)\n",
    "\n",
    "# Transformar los datos\n",
    "df_tfidf = model.transform(df)\n",
    "\n",
    "# Mostrar los resultados\n",
    "# df_tfidf.select(\"content\", \"features\").show(truncate=False)\n"
   ]
  },
  {
   "cell_type": "code",
   "execution_count": 11,
   "id": "91b647a4-2b77-4486-be72-878f773027c5",
   "metadata": {},
   "outputs": [
    {
     "name": "stderr",
     "output_type": "stream",
     "text": [
      "                                                                                "
     ]
    },
    {
     "name": "stdout",
     "output_type": "stream",
     "text": [
      "+--------------------+--------------------+\n",
      "|             content|            features|\n",
      "+--------------------+--------------------+\n",
      "|\\nLA WEB, UNA ENC...|(5000,[1,4,5,10,1...|\n",
      "|\\n  JUVENILIA\\n\\n...|(5000,[0,1,2,3,4,...|\n",
      "|\\n\\n\\n\\n\\n\\n\\n\\n\\...|(5000,[0,1,2,3,4,...|\n",
      "|\\n[imagen: MUSEO ...|(5000,[0,1,2,3,4,...|\n",
      "|\\n  Nota del Tran...|(5000,[0,1,2,3,4,...|\n",
      "|\\nNotas del Trans...|(5000,[0,1,2,3,4,...|\n",
      "|produced from ima...|(5000,[0,1,2,3,4,...|\n",
      "|\\nEn esta edición...|(5000,[0,1,2,3,4,...|\n",
      "|\\n  Nota del Tran...|(5000,[0,1,2,5,7,...|\n",
      "|\\n  Nota del Tran...|(5000,[0,2,3,4,7,...|\n",
      "|\\n               ...|(5000,[1,2,4,8,9,...|\n",
      "|\\n  En esta edici...|(5000,[0,1,2,3,4,...|\n",
      "|\\n\\n\\n\\n\\n\\n\\n\\n\\...|(5000,[0,2,3,4,5,...|\n",
      "|\\nNotas del Trans...|(5000,[0,1,2,3,4,...|\n",
      "|\\n  Nota del Tran...|(5000,[0,2,3,4,5,...|\n",
      "|produced from ima...|(5000,[0,1,2,3,4,...|\n",
      "|\\n  [Nota del tra...|(5000,[0,1,2,4,7,...|\n",
      "|\\nNota del transc...|(5000,[0,1,2,3,4,...|\n",
      "|Proofreading Team...|(5000,[0,1,2,3,4,...|\n",
      "|produced from ima...|(5000,[0,1,2,4,5,...|\n",
      "+--------------------+--------------------+\n",
      "only showing top 20 rows\n",
      "\n"
     ]
    }
   ],
   "source": [
    "df_tfidf.select(\"content\", \"features\").show()"
   ]
  },
  {
   "cell_type": "code",
   "execution_count": null,
   "id": "95718378-136f-40ad-a73e-67e27f60c96b",
   "metadata": {},
   "outputs": [
    {
     "name": "stderr",
     "output_type": "stream",
     "text": [
      "25/04/09 19:14:36 WARN InstanceBuilder: Failed to load implementation from:dev.ludovic.netlib.blas.JNIBLAS\n",
      "                                                                                "
     ]
    }
   ],
   "source": [
    "from pyspark.ml.clustering import KMeans\n",
    "from pyspark.ml.feature import VectorAssembler\n",
    "from pyspark.ml import Pipeline\n",
    "\n",
    "# Suponiendo que ya tienes la columna 'features' generada en el paso anterior con TF-IDF\n",
    "\n",
    "# Especificamos el número de clusters\n",
    "num_clusters = 20\n",
    "\n",
    "# Configuramos el modelo KMeans en Spark\n",
    "kmeans = KMeans().setK(num_clusters).setSeed(42).setFeaturesCol(\"features\").setPredictionCol(\"cluster_kmeans\")\n",
    "\n",
    "# Entrenamos el modelo KMeans\n",
    "kmeans_model = kmeans.fit(df_tfidf)\n",
    "\n",
    "# Realizamos las predicciones (asignación de cluster)\n",
    "df_clusters = kmeans_model.transform(df_tfidf)\n",
    "\n",
    "# Mostrar los resultados\n",
    "df_clusters.select(\"content\", \"cluster_kmeans\").show()\n"
   ]
  },
  {
   "cell_type": "code",
   "execution_count": null,
   "id": "3b1eb565-f056-4868-ba25-18ba9bb6ea74",
   "metadata": {},
   "outputs": [],
   "source": []
  }
 ],
 "metadata": {
  "kernelspec": {
   "display_name": "Python 3 (ipykernel)",
   "language": "python",
   "name": "python3"
  },
  "language_info": {
   "codemirror_mode": {
    "name": "ipython",
    "version": 3
   },
   "file_extension": ".py",
   "mimetype": "text/x-python",
   "name": "python",
   "nbconvert_exporter": "python",
   "pygments_lexer": "ipython3",
   "version": "3.10.17"
  }
 },
 "nbformat": 4,
 "nbformat_minor": 5
}
